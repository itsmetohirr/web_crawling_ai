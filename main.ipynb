{
 "cells": [
  {
   "cell_type": "markdown",
   "id": "eaf56230",
   "metadata": {},
   "source": [
    "## 📦 Step 1: Install Required Libraries\n",
    "Install all the required Python packages including Firecrawl, Langchain, OpenAI, Google Sheets, and Airtable libraries.\n"
   ]
  },
  {
   "cell_type": "code",
   "execution_count": 13,
   "id": "22fff34e",
   "metadata": {
    "vscode": {
     "languageId": "shellscript"
    }
   },
   "outputs": [
    {
     "name": "stdout",
     "output_type": "stream",
     "text": [
      "Requirement already satisfied: firecrawl-py in ./.venv/lib/python3.11/site-packages (2.5.3)\n",
      "Requirement already satisfied: langchain in ./.venv/lib/python3.11/site-packages (0.3.25)\n",
      "Requirement already satisfied: python-dotenv in ./.venv/lib/python3.11/site-packages (1.1.0)\n",
      "Requirement already satisfied: google-auth in ./.venv/lib/python3.11/site-packages (2.40.0)\n",
      "Requirement already satisfied: google-api-python-client in ./.venv/lib/python3.11/site-packages (2.169.0)\n",
      "Requirement already satisfied: google-auth-httplib2 in ./.venv/lib/python3.11/site-packages (0.2.0)\n",
      "Requirement already satisfied: google-auth-oauthlib in ./.venv/lib/python3.11/site-packages (1.2.2)\n",
      "Requirement already satisfied: gspread in ./.venv/lib/python3.11/site-packages (6.2.0)\n",
      "Requirement already satisfied: pyairtable in ./.venv/lib/python3.11/site-packages (3.1.1)\n",
      "Requirement already satisfied: requests in ./.venv/lib/python3.11/site-packages (from firecrawl-py) (2.32.3)\n",
      "Requirement already satisfied: websockets in ./.venv/lib/python3.11/site-packages (from firecrawl-py) (15.0.1)\n",
      "Requirement already satisfied: nest-asyncio in ./.venv/lib/python3.11/site-packages (from firecrawl-py) (1.6.0)\n",
      "Requirement already satisfied: pydantic in ./.venv/lib/python3.11/site-packages (from firecrawl-py) (2.11.4)\n",
      "Requirement already satisfied: aiohttp in ./.venv/lib/python3.11/site-packages (from firecrawl-py) (3.11.18)\n",
      "Requirement already satisfied: langchain-core<1.0.0,>=0.3.58 in ./.venv/lib/python3.11/site-packages (from langchain) (0.3.58)\n",
      "Requirement already satisfied: langchain-text-splitters<1.0.0,>=0.3.8 in ./.venv/lib/python3.11/site-packages (from langchain) (0.3.8)\n",
      "Requirement already satisfied: langsmith<0.4,>=0.1.17 in ./.venv/lib/python3.11/site-packages (from langchain) (0.3.42)\n",
      "Requirement already satisfied: SQLAlchemy<3,>=1.4 in ./.venv/lib/python3.11/site-packages (from langchain) (2.0.40)\n",
      "Requirement already satisfied: PyYAML>=5.3 in ./.venv/lib/python3.11/site-packages (from langchain) (6.0.2)\n",
      "Requirement already satisfied: cachetools<6.0,>=2.0.0 in ./.venv/lib/python3.11/site-packages (from google-auth) (5.5.2)\n",
      "Requirement already satisfied: pyasn1-modules>=0.2.1 in ./.venv/lib/python3.11/site-packages (from google-auth) (0.4.2)\n",
      "Requirement already satisfied: rsa<5,>=3.1.4 in ./.venv/lib/python3.11/site-packages (from google-auth) (4.9.1)\n",
      "Requirement already satisfied: httplib2<1.0.0,>=0.19.0 in ./.venv/lib/python3.11/site-packages (from google-api-python-client) (0.22.0)\n",
      "Requirement already satisfied: google-api-core!=2.0.*,!=2.1.*,!=2.2.*,!=2.3.0,<3.0.0,>=1.31.5 in ./.venv/lib/python3.11/site-packages (from google-api-python-client) (2.24.2)\n",
      "Requirement already satisfied: uritemplate<5,>=3.0.1 in ./.venv/lib/python3.11/site-packages (from google-api-python-client) (4.1.1)\n",
      "Requirement already satisfied: requests-oauthlib>=0.7.0 in ./.venv/lib/python3.11/site-packages (from google-auth-oauthlib) (2.0.0)\n",
      "Requirement already satisfied: inflection in ./.venv/lib/python3.11/site-packages (from pyairtable) (0.5.1)\n",
      "Requirement already satisfied: typing_extensions in ./.venv/lib/python3.11/site-packages (from pyairtable) (4.13.2)\n",
      "Requirement already satisfied: urllib3>=1.26 in ./.venv/lib/python3.11/site-packages (from pyairtable) (2.4.0)\n",
      "Requirement already satisfied: googleapis-common-protos<2.0.0,>=1.56.2 in ./.venv/lib/python3.11/site-packages (from google-api-core!=2.0.*,!=2.1.*,!=2.2.*,!=2.3.0,<3.0.0,>=1.31.5->google-api-python-client) (1.70.0)\n",
      "Requirement already satisfied: protobuf!=3.20.0,!=3.20.1,!=4.21.0,!=4.21.1,!=4.21.2,!=4.21.3,!=4.21.4,!=4.21.5,<7.0.0,>=3.19.5 in ./.venv/lib/python3.11/site-packages (from google-api-core!=2.0.*,!=2.1.*,!=2.2.*,!=2.3.0,<3.0.0,>=1.31.5->google-api-python-client) (6.30.2)\n",
      "Requirement already satisfied: proto-plus<2.0.0,>=1.22.3 in ./.venv/lib/python3.11/site-packages (from google-api-core!=2.0.*,!=2.1.*,!=2.2.*,!=2.3.0,<3.0.0,>=1.31.5->google-api-python-client) (1.26.1)\n",
      "Requirement already satisfied: pyparsing!=3.0.0,!=3.0.1,!=3.0.2,!=3.0.3,<4,>=2.4.2 in ./.venv/lib/python3.11/site-packages (from httplib2<1.0.0,>=0.19.0->google-api-python-client) (3.2.3)\n",
      "Requirement already satisfied: tenacity!=8.4.0,<10.0.0,>=8.1.0 in ./.venv/lib/python3.11/site-packages (from langchain-core<1.0.0,>=0.3.58->langchain) (9.1.2)\n",
      "Requirement already satisfied: jsonpatch<2.0,>=1.33 in ./.venv/lib/python3.11/site-packages (from langchain-core<1.0.0,>=0.3.58->langchain) (1.33)\n",
      "Requirement already satisfied: packaging<25,>=23.2 in ./.venv/lib/python3.11/site-packages (from langchain-core<1.0.0,>=0.3.58->langchain) (24.2)\n",
      "Requirement already satisfied: httpx<1,>=0.23.0 in ./.venv/lib/python3.11/site-packages (from langsmith<0.4,>=0.1.17->langchain) (0.28.1)\n",
      "Requirement already satisfied: orjson<4.0.0,>=3.9.14 in ./.venv/lib/python3.11/site-packages (from langsmith<0.4,>=0.1.17->langchain) (3.10.18)\n",
      "Requirement already satisfied: requests-toolbelt<2.0.0,>=1.0.0 in ./.venv/lib/python3.11/site-packages (from langsmith<0.4,>=0.1.17->langchain) (1.0.0)\n",
      "Requirement already satisfied: zstandard<0.24.0,>=0.23.0 in ./.venv/lib/python3.11/site-packages (from langsmith<0.4,>=0.1.17->langchain) (0.23.0)\n",
      "Requirement already satisfied: pyasn1<0.7.0,>=0.6.1 in ./.venv/lib/python3.11/site-packages (from pyasn1-modules>=0.2.1->google-auth) (0.6.1)\n",
      "Requirement already satisfied: annotated-types>=0.6.0 in ./.venv/lib/python3.11/site-packages (from pydantic->firecrawl-py) (0.7.0)\n",
      "Requirement already satisfied: pydantic-core==2.33.2 in ./.venv/lib/python3.11/site-packages (from pydantic->firecrawl-py) (2.33.2)\n",
      "Requirement already satisfied: typing-inspection>=0.4.0 in ./.venv/lib/python3.11/site-packages (from pydantic->firecrawl-py) (0.4.0)\n",
      "Requirement already satisfied: charset-normalizer<4,>=2 in ./.venv/lib/python3.11/site-packages (from requests->firecrawl-py) (3.4.2)\n",
      "Requirement already satisfied: idna<4,>=2.5 in ./.venv/lib/python3.11/site-packages (from requests->firecrawl-py) (3.10)\n",
      "Requirement already satisfied: certifi>=2017.4.17 in ./.venv/lib/python3.11/site-packages (from requests->firecrawl-py) (2025.4.26)\n",
      "Requirement already satisfied: oauthlib>=3.0.0 in ./.venv/lib/python3.11/site-packages (from requests-oauthlib>=0.7.0->google-auth-oauthlib) (3.2.2)\n",
      "Requirement already satisfied: aiohappyeyeballs>=2.3.0 in ./.venv/lib/python3.11/site-packages (from aiohttp->firecrawl-py) (2.6.1)\n",
      "Requirement already satisfied: aiosignal>=1.1.2 in ./.venv/lib/python3.11/site-packages (from aiohttp->firecrawl-py) (1.3.2)\n",
      "Requirement already satisfied: attrs>=17.3.0 in ./.venv/lib/python3.11/site-packages (from aiohttp->firecrawl-py) (25.3.0)\n",
      "Requirement already satisfied: frozenlist>=1.1.1 in ./.venv/lib/python3.11/site-packages (from aiohttp->firecrawl-py) (1.6.0)\n",
      "Requirement already satisfied: multidict<7.0,>=4.5 in ./.venv/lib/python3.11/site-packages (from aiohttp->firecrawl-py) (6.4.3)\n",
      "Requirement already satisfied: propcache>=0.2.0 in ./.venv/lib/python3.11/site-packages (from aiohttp->firecrawl-py) (0.3.1)\n",
      "Requirement already satisfied: yarl<2.0,>=1.17.0 in ./.venv/lib/python3.11/site-packages (from aiohttp->firecrawl-py) (1.20.0)\n",
      "Requirement already satisfied: anyio in ./.venv/lib/python3.11/site-packages (from httpx<1,>=0.23.0->langsmith<0.4,>=0.1.17->langchain) (4.9.0)\n",
      "Requirement already satisfied: httpcore==1.* in ./.venv/lib/python3.11/site-packages (from httpx<1,>=0.23.0->langsmith<0.4,>=0.1.17->langchain) (1.0.9)\n",
      "Requirement already satisfied: h11>=0.16 in ./.venv/lib/python3.11/site-packages (from httpcore==1.*->httpx<1,>=0.23.0->langsmith<0.4,>=0.1.17->langchain) (0.16.0)\n",
      "Requirement already satisfied: jsonpointer>=1.9 in ./.venv/lib/python3.11/site-packages (from jsonpatch<2.0,>=1.33->langchain-core<1.0.0,>=0.3.58->langchain) (3.0.0)\n",
      "Requirement already satisfied: sniffio>=1.1 in ./.venv/lib/python3.11/site-packages (from anyio->httpx<1,>=0.23.0->langsmith<0.4,>=0.1.17->langchain) (1.3.1)\n",
      "\n",
      "\u001b[1m[\u001b[0m\u001b[34;49mnotice\u001b[0m\u001b[1;39;49m]\u001b[0m\u001b[39;49m A new release of pip is available: \u001b[0m\u001b[31;49m23.2.1\u001b[0m\u001b[39;49m -> \u001b[0m\u001b[32;49m25.1.1\u001b[0m\n",
      "\u001b[1m[\u001b[0m\u001b[34;49mnotice\u001b[0m\u001b[1;39;49m]\u001b[0m\u001b[39;49m To update, run: \u001b[0m\u001b[32;49mpip install --upgrade pip\u001b[0m\n"
     ]
    }
   ],
   "source": [
    "!pip install firecrawl-py \\\n",
    "            langchain \\\n",
    "            python-dotenv \\\n",
    "            google-auth \\\n",
    "            google-api-python-client \\\n",
    "            google-auth-httplib2 \\\n",
    "            google-auth-oauthlib \\\n",
    "            gspread \\\n",
    "            pyairtable"
   ]
  },
  {
   "cell_type": "markdown",
   "id": "fc2dfcc5",
   "metadata": {},
   "source": [
    "## 🌐 Step 2: Get Website URL\n",
    "Prompt the user to enter the URL of the website they want to analyze.\n"
   ]
  },
  {
   "cell_type": "code",
   "execution_count": 14,
   "id": "3d5db766",
   "metadata": {},
   "outputs": [],
   "source": [
    "website = input('Enter a website url: ')"
   ]
  },
  {
   "cell_type": "markdown",
   "id": "9bc8e3ab",
   "metadata": {},
   "source": [
    "## 🕷️ Step 3: Scrape Website Using Firecrawl\n",
    "Use the Firecrawl API to scrape the content of the given website in markdown format.\n"
   ]
  },
  {
   "cell_type": "code",
   "execution_count": 15,
   "id": "38a73985",
   "metadata": {},
   "outputs": [],
   "source": [
    "import os\n",
    "from dotenv import load_dotenv\n",
    "from firecrawl import FirecrawlApp\n",
    "\n",
    "load_dotenv(override=True)\n",
    "\n",
    "firecrawl = FirecrawlApp(api_key=os.getenv('FIRECRAWL_API'))\n",
    "\n",
    "scrape_result = firecrawl.scrape_url(website, formats=['markdown'])\n",
    "markdown = scrape_result.markdown.strip()"
   ]
  },
  {
   "cell_type": "markdown",
   "id": "8b4e6d5b",
   "metadata": {},
   "source": [
    "## 🧠 Step 4: Use OpenAI and Langchain to Analyze Website Content\n",
    "Send the scraped markdown to OpenAI using Langchain to generate a meaningful summary or insight about the website.\n"
   ]
  },
  {
   "cell_type": "code",
   "execution_count": 16,
   "id": "afb1b4ab",
   "metadata": {},
   "outputs": [],
   "source": [
    "from langchain_openai import ChatOpenAI\n",
    "from langchain.prompts import PromptTemplate\n",
    "\n",
    "llm = ChatOpenAI(openai_api_key=os.getenv('OPENAI_API'), temperature=0)\n",
    "\n",
    "prompt = PromptTemplate(\n",
    "    input_variables=[\"web_data\"],\n",
    "    template=\"Given the website data \\\"{web_data}\\\" Make sense of the data and provide information about the website.\")\n",
    "\n",
    "chain = chain = prompt | llm\n",
    "\n",
    "result = chain.invoke({\"web_data\": markdown})"
   ]
  },
  {
   "cell_type": "markdown",
   "id": "e3f6a6d1",
   "metadata": {},
   "source": [
    "## 📊 Step 5: Save Result to Google Sheets\n",
    "Authenticate with Google Sheets and append the website and its summary to a predefined spreadsheet.\n"
   ]
  },
  {
   "cell_type": "code",
   "execution_count": 17,
   "id": "0847dc80",
   "metadata": {},
   "outputs": [
    {
     "data": {
      "text/plain": [
       "{'spreadsheetId': '1VarAr4qbBgM-0ixXa_-GrlDMy3y6bTz1EDipnAqps1E',\n",
       " 'updates': {'spreadsheetId': '1VarAr4qbBgM-0ixXa_-GrlDMy3y6bTz1EDipnAqps1E',\n",
       "  'updatedRange': 'Sheet1!A1:B1',\n",
       "  'updatedRows': 1,\n",
       "  'updatedColumns': 2,\n",
       "  'updatedCells': 2}}"
      ]
     },
     "execution_count": 17,
     "metadata": {},
     "output_type": "execute_result"
    }
   ],
   "source": [
    "from google.oauth2.service_account import Credentials\n",
    "import gspread\n",
    "\n",
    "SERVICE_ACCOUNT_FILE = 'creds.json'\n",
    "SCOPES = ['https://www.googleapis.com/auth/spreadsheets']\n",
    "SPREADSHEET_ID = '1VarAr4qbBgM-0ixXa_-GrlDMy3y6bTz1EDipnAqps1E'\n",
    "\n",
    "\n",
    "creds = Credentials.from_service_account_file(\n",
    "    SERVICE_ACCOUNT_FILE, scopes=SCOPES)\n",
    "client = gspread.authorize(creds)\n",
    "\n",
    "workbook = client.open_by_key(SPREADSHEET_ID)\n",
    "\n",
    "sheet = workbook.worksheet('Sheet1')\n",
    "sheet.append_row([website, result.content])"
   ]
  },
  {
   "cell_type": "markdown",
   "id": "c2d17749",
   "metadata": {},
   "source": [
    "## 📋 Step 6: Save Result to Airtable\n",
    "Authenticate with Airtable and insert a new record containing the website and its analysis result.\n"
   ]
  },
  {
   "cell_type": "code",
   "execution_count": 18,
   "id": "803198bd",
   "metadata": {},
   "outputs": [],
   "source": [
    "from pyairtable import Api\n",
    "\n",
    "\n",
    "api = Api(os.getenv('AIRTABLE_API_KEY'))\n",
    "table = api.table('app91Xn5ozfJumoDi', 'tblQOUjnjIU5MWXPM')\n",
    "\n",
    "data = {\n",
    "    'Website': website,\n",
    "    'Info': result.content\n",
    "}\n",
    "\n",
    "records = table.create(data)"
   ]
  }
 ],
 "metadata": {
  "kernelspec": {
   "display_name": ".venv",
   "language": "python",
   "name": "python3"
  },
  "language_info": {
   "codemirror_mode": {
    "name": "ipython",
    "version": 3
   },
   "file_extension": ".py",
   "mimetype": "text/x-python",
   "name": "python",
   "nbconvert_exporter": "python",
   "pygments_lexer": "ipython3",
   "version": "3.11.5"
  }
 },
 "nbformat": 4,
 "nbformat_minor": 5
}
