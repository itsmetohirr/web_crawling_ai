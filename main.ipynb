{
 "cells": [
  {
   "cell_type": "markdown",
   "id": "eaf56230",
   "metadata": {},
   "source": [
    "## 📦 Step 1: Install Required Libraries\n",
    "Install all the required Python packages including Firecrawl, Langchain, OpenAI, Google Sheets, and Airtable libraries.\n"
   ]
  },
  {
   "cell_type": "code",
   "execution_count": null,
   "id": "22fff34e",
   "metadata": {
    "vscode": {
     "languageId": "shellscript"
    }
   },
   "outputs": [],
   "source": [
    "!pip install firecrawl-py \\\n",
    "            langchain \\\n",
    "            python-dotenv \\\n",
    "            google-auth \\\n",
    "            google-api-python-client \\\n",
    "            google-auth-httplib2 \\\n",
    "            google-auth-oauthlib \\\n",
    "            gspread \\\n",
    "            pyairtable"
   ]
  },
  {
   "cell_type": "markdown",
   "id": "fc2dfcc5",
   "metadata": {},
   "source": [
    "## 🌐 Step 2: Get Website URL\n",
    "Prompt the user to enter the URL of the website they want to analyze.\n"
   ]
  },
  {
   "cell_type": "code",
   "execution_count": null,
   "id": "3d5db766",
   "metadata": {},
   "outputs": [],
   "source": [
    "website = input('Enter a website url: ')"
   ]
  },
  {
   "cell_type": "markdown",
   "id": "9bc8e3ab",
   "metadata": {},
   "source": [
    "## 🕷️ Step 3: Scrape Website Using Firecrawl\n",
    "Use the Firecrawl API to scrape the content of the given website in markdown format.\n"
   ]
  },
  {
   "cell_type": "code",
   "execution_count": null,
   "id": "38a73985",
   "metadata": {},
   "outputs": [],
   "source": [
    "import os\n",
    "from dotenv import load_dotenv\n",
    "from firecrawl import FirecrawlApp\n",
    "\n",
    "load_dotenv(override=True)\n",
    "\n",
    "firecrawl = FirecrawlApp(api_key=os.getenv('FIRECRAWL_API'))\n",
    "\n",
    "scrape_result = firecrawl.scrape_url(website, formats=['markdown'])\n",
    "markdown = scrape_result.markdown.strip()"
   ]
  },
  {
   "cell_type": "markdown",
   "id": "8b4e6d5b",
   "metadata": {},
   "source": [
    "## 🧠 Step 4: Use OpenAI and Langchain to Analyze Website Content\n",
    "Send the scraped markdown to OpenAI using Langchain to generate a meaningful summary or insight about the website.\n"
   ]
  },
  {
   "cell_type": "code",
   "execution_count": null,
   "id": "afb1b4ab",
   "metadata": {},
   "outputs": [],
   "source": [
    "from langchain_openai import ChatOpenAI\n",
    "from langchain.prompts import PromptTemplate\n",
    "\n",
    "llm = ChatOpenAI(openai_api_key=os.getenv('OPENAI_API'), temperature=0)\n",
    "\n",
    "prompt = PromptTemplate(\n",
    "    input_variables=[\"web_data\"],\n",
    "    template=\"Given the website data \\\"{web_data}\\\" Make sense of the data and provide information about the website.\")\n",
    "\n",
    "chain = chain = prompt | llm\n",
    "\n",
    "result = chain.invoke({\"web_data\": markdown})"
   ]
  },
  {
   "cell_type": "markdown",
   "id": "e3f6a6d1",
   "metadata": {},
   "source": [
    "## 📊 Step 5: Save Result to Google Sheets\n",
    "Authenticate with Google Sheets and append the website and its summary to a predefined spreadsheet.\n",
    "\n",
    "https://docs.google.com/spreadsheets/d/1VarAr4qbBgM-0ixXa_-GrlDMy3y6bTz1EDipnAqps1E/edit?usp=sharing"
   ]
  },
  {
   "cell_type": "code",
   "execution_count": null,
   "id": "0847dc80",
   "metadata": {},
   "outputs": [],
   "source": [
    "from google.oauth2.service_account import Credentials\n",
    "import gspread\n",
    "\n",
    "SERVICE_ACCOUNT_FILE = 'creds.json'\n",
    "SCOPES = ['https://www.googleapis.com/auth/spreadsheets']\n",
    "SPREADSHEET_ID = '1VarAr4qbBgM-0ixXa_-GrlDMy3y6bTz1EDipnAqps1E'\n",
    "\n",
    "\n",
    "creds = Credentials.from_service_account_file(\n",
    "    SERVICE_ACCOUNT_FILE, scopes=SCOPES)\n",
    "client = gspread.authorize(creds)\n",
    "\n",
    "workbook = client.open_by_key(SPREADSHEET_ID)\n",
    "\n",
    "sheet = workbook.worksheet('Sheet1')\n",
    "sheet.append_row([website, result.content])"
   ]
  },
  {
   "cell_type": "markdown",
   "id": "c2d17749",
   "metadata": {},
   "source": [
    "## 📋 Step 6: Save Result to Airtable\n",
    "Authenticate with Airtable and insert a new record containing the website and its analysis result.\n",
    "\n",
    "https://airtable.com/app91Xn5ozfJumoDi/shru1LkgCu6UG6G0h"
   ]
  },
  {
   "cell_type": "code",
   "execution_count": null,
   "id": "803198bd",
   "metadata": {},
   "outputs": [],
   "source": [
    "from pyairtable import Api\n",
    "\n",
    "\n",
    "api = Api(os.getenv('AIRTABLE_API_KEY'))\n",
    "table = api.table('app91Xn5ozfJumoDi', 'tblQOUjnjIU5MWXPM')\n",
    "\n",
    "data = {\n",
    "    'Website': website,\n",
    "    'Info': result.content\n",
    "}\n",
    "\n",
    "records = table.create(data)"
   ]
  }
 ],
 "metadata": {
  "kernelspec": {
   "display_name": ".venv",
   "language": "python",
   "name": "python3"
  },
  "language_info": {
   "codemirror_mode": {
    "name": "ipython",
    "version": 3
   },
   "file_extension": ".py",
   "mimetype": "text/x-python",
   "name": "python",
   "nbconvert_exporter": "python",
   "pygments_lexer": "ipython3",
   "version": "3.11.5"
  }
 },
 "nbformat": 4,
 "nbformat_minor": 5
}
