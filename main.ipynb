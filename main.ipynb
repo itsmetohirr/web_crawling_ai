{
 "cells": [
  {
   "cell_type": "code",
   "execution_count": null,
   "id": "22fff34e",
   "metadata": {
    "vscode": {
     "languageId": "shellscript"
    }
   },
   "outputs": [],
   "source": [
    "!pip install firecrawl-py \\\n",
    "            langchain \\\n",
    "            python-dotenv \\\n",
    "            google-auth \\\n",
    "            google-api-python-client \\\n",
    "            google-auth-httplib2 \\\n",
    "            google-auth-oauthlib \\\n",
    "            gspread \\\n",
    "            pyairtable"
   ]
  },
  {
   "cell_type": "code",
   "execution_count": null,
   "id": "38a73985",
   "metadata": {},
   "outputs": [],
   "source": [
    "import os\n",
    "from dotenv import load_dotenv\n",
    "from firecrawl import FirecrawlApp\n",
    "\n",
    "load_dotenv(override=True)\n",
    "\n",
    "firecrawl = FirecrawlApp(api_key=os.getenv('FIRECRAWL_API'))\n",
    "website = 'wired.com'\n",
    "# Set crawl parameters\n",
    "scrape_result = firecrawl.scrape_url(website, formats=['markdown'])\n",
    "web_data = scrape_result.markdown.strip()"
   ]
  },
  {
   "cell_type": "code",
   "execution_count": null,
   "id": "afb1b4ab",
   "metadata": {},
   "outputs": [],
   "source": [
    "from langchain.chat_models import ChatOpenAI\n",
    "from langchain.prompts import PromptTemplate\n",
    "from langchain.chains import LLMChain\n",
    "\n",
    "llm = ChatOpenAI(openai_api_key=os.getenv('OPENAI_API'), temperature=0)\n",
    "\n",
    "prompt = PromptTemplate(\n",
    "    input_variables=[\"web_data\"],\n",
    "    template=\"Given the website data \\\"{web_data}\\\" Make sense of the data and provide information about the website.\")\n",
    "\n",
    "# LLMChain combines the model and the prompt\n",
    "chain = LLMChain(llm=llm, prompt=prompt)\n",
    "\n",
    "result = chain.run(web_data=web_data)  # Simplified process with LLMChain\n",
    "prefix = f\"Website: {website}\\n\\n\"\n",
    "print(prefix + result)"
   ]
  },
  {
   "cell_type": "code",
   "execution_count": 30,
   "id": "0847dc80",
   "metadata": {},
   "outputs": [
    {
     "data": {
      "text/plain": [
       "{'spreadsheetId': '1VarAr4qbBgM-0ixXa_-GrlDMy3y6bTz1EDipnAqps1E',\n",
       " 'updates': {'spreadsheetId': '1VarAr4qbBgM-0ixXa_-GrlDMy3y6bTz1EDipnAqps1E',\n",
       "  'updatedRange': 'Sheet1!A1:B1',\n",
       "  'updatedRows': 1,\n",
       "  'updatedColumns': 2,\n",
       "  'updatedCells': 2}}"
      ]
     },
     "execution_count": 30,
     "metadata": {},
     "output_type": "execute_result"
    }
   ],
   "source": [
    "from googleapiclient.discovery import build\n",
    "from google.oauth2.service_account import Credentials\n",
    "import gspread\n",
    "\n",
    "SERVICE_ACCOUNT_FILE = 'creds.json'\n",
    "SCOPES = ['https://www.googleapis.com/auth/spreadsheets']\n",
    "SPREADSHEET_ID = '1VarAr4qbBgM-0ixXa_-GrlDMy3y6bTz1EDipnAqps1E'\n",
    "\n",
    "\n",
    "creds = Credentials.from_service_account_file(\n",
    "    SERVICE_ACCOUNT_FILE, scopes=SCOPES)\n",
    "client = gspread.authorize(creds)\n",
    "\n",
    "workbook = client.open_by_key(SPREADSHEET_ID)\n",
    "\n",
    "sheet = workbook.worksheet('Sheet1')\n",
    "sheet.append_row([website, result])\n"
   ]
  },
  {
   "cell_type": "code",
   "execution_count": null,
   "id": "177758db",
   "metadata": {},
   "outputs": [
    {
     "name": "stdout",
     "output_type": "stream",
     "text": [
      "1000\n"
     ]
    }
   ],
   "source": [
    "count = sheet.append_row()\n",
    "print(count)"
   ]
  },
  {
   "cell_type": "code",
   "execution_count": null,
   "id": "803198bd",
   "metadata": {},
   "outputs": [],
   "source": [
    "import os\n",
    "from pyairtable import Api\n",
    "\n",
    "\n",
    "api = Api(os.getenv('AIRTABLE_API_KEY'))\n",
    "table = api.table('app91Xn5ozfJumoDi', 'tblQOUjnjIU5MWXPM')\n",
    "\n",
    "data = {\n",
    "    'Website': website,\n",
    "    'Info': result\n",
    "}\n",
    "\n",
    "records = table.create(data)\n"
   ]
  },
  {
   "cell_type": "code",
   "execution_count": 23,
   "id": "c7eef7e9",
   "metadata": {},
   "outputs": [
    {
     "name": "stdout",
     "output_type": "stream",
     "text": [
      "[{'id': 'rec6hgR8d7M6izeMY', 'createdTime': '2025-05-09T10:36:01.000Z', 'fields': {}}, {'id': 'recBdtMbPnJIEGKqW', 'createdTime': '2025-05-09T10:36:01.000Z', 'fields': {'Name': 'First', 'Info': 'Info'}}, {'id': 'recbMlMzn9XJ0pyrb', 'createdTime': '2025-05-09T10:36:01.000Z', 'fields': {}}]\n"
     ]
    }
   ],
   "source": [
    "print(records)"
   ]
  }
 ],
 "metadata": {
  "kernelspec": {
   "display_name": ".venv",
   "language": "python",
   "name": "python3"
  },
  "language_info": {
   "codemirror_mode": {
    "name": "ipython",
    "version": 3
   },
   "file_extension": ".py",
   "mimetype": "text/x-python",
   "name": "python",
   "nbconvert_exporter": "python",
   "pygments_lexer": "ipython3",
   "version": "3.11.5"
  }
 },
 "nbformat": 4,
 "nbformat_minor": 5
}
